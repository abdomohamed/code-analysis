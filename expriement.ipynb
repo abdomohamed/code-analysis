{
 "cells": [
  {
   "cell_type": "code",
   "execution_count": null,
   "metadata": {},
   "outputs": [],
   "source": [""]
  },
  {
   "cell_type": "code",
   "execution_count": 11,
   "metadata": {},
   "outputs": [],
   "source": ["from openai import OpenAI\n\nclient = OpenAI(api_key='your_openai_api_key')\nimport os\nfrom IPython.display import display, Markdown\nimport ipywidgets as widgets\n\n# Set your OpenAI API key"]
  },
  {
   "cell_type": "code",
   "execution_count": 10,
   "metadata": {},
   "outputs": [
    {
     "data": {
      "application/vnd.jupyter.widget-view+json": {
       "model_id": "4d9bae82fdb444a0b2dd9ceaebefdb65",
       "version_major": 2,
       "version_minor": 0
      },
      "text/plain": [
       "FileUpload(value=(), accept='.java,.py,.cs,.rs,.cpp', description='Upload', multiple=True)"
      ]
     },
     "metadata": {},
     "output_type": "display_data"
    }
   ],
   "source": ["file_selector = widgets.FileUpload(accept='.java,.py,.cs,.rs,.cpp', multiple=True)\ndisplay(file_selector)"]
  },
  {
   "cell_type": "code",
   "execution_count": null,
   "metadata": {},
   "outputs": [],
   "source": ["def read_files(file_selector):\n    files_content = {}\n    for filename, file_info in file_selector.value.items():\n        content = file_info['content'].decode('utf-8')\n        files_content[filename] = content\n    return files_content"]
  },
  {
   "cell_type": "code",
   "execution_count": null,
   "metadata": {},
   "outputs": [],
   "source": ["question_input = widgets.Textarea(\n    placeholder='Type your question here...',\n    description='Question:',\n    disabled=False\n)\ndisplay(question_input)"]
  },
  {
   "cell_type": "code",
   "execution_count": null,
   "metadata": {},
   "outputs": [],
   "source": ["def ask_openai(question, files_content):\n    combined_content = \"\\n\\n\".join([f\"### {filename}\\n{content}\" for filename, content in files_content.items()])\n    response = client.completions.create(engine=\"davinci-codex\",\n    prompt=f\"{combined_content}\\n\\nQuestion: {question}\\nAnswer:\",\n    max_tokens=150)\n    return response.choices[0].text.strip()"]
  },
  {
   "cell_type": "code",
   "execution_count": null,
   "metadata": {},
   "outputs": [],
   "source": ["def display_files(files_content):\n    for filename, content in files_content.items():\n        display(Markdown(f\"### {filename}\\n```{content}```\"))"]
  },
  {
   "cell_type": "code",
   "execution_count": 12,
   "metadata": {},
   "outputs": [
    {
     "data": {
      "application/vnd.jupyter.widget-view+json": {
       "model_id": "e3b90e2ea4b24600bfb80f219a31bc38",
       "version_major": 2,
       "version_minor": 0
      },
      "text/plain": [
       "Button(description='Ask OpenAI', style=ButtonStyle())"
      ]
     },
     "metadata": {},
     "output_type": "display_data"
    },
    {
     "data": {
      "application/vnd.jupyter.widget-view+json": {
       "model_id": "c7c925230d2548f0ae87ab57d239c975",
       "version_major": 2,
       "version_minor": 0
      },
      "text/plain": [
       "Output()"
      ]
     },
     "metadata": {},
     "output_type": "display_data"
    }
   ],
   "source": ["ask_button = widgets.Button(description=\"Ask OpenAI\")\noutput = widgets.Output()\n\ndef on_ask_button_clicked(b):\n    with output:\n        output.clear_output()\n        files_content = read_files(file_selector)\n        display_files(files_content)\n        question = question_input.value\n        answer = ask_openai(question, files_content)\n        display(Markdown(f\"**Answer:** {answer}\"))\n\nask_button.on_click(on_ask_button_clicked)\ndisplay(ask_button, output)"]
  }
 ],
 "metadata": {
  "kernelspec": {
   "display_name": "Python 3",
   "language": "python",
   "name": "python3"
  },
  "language_info": {
   "codemirror_mode": {
    "name": "ipython",
    "version": 3
   },
   "file_extension": ".py",
   "mimetype": "text/x-python",
   "name": "python",
   "nbconvert_exporter": "python",
   "pygments_lexer": "ipython3",
   "version": "3.12.6"
  }
 },
 "nbformat": 4,
 "nbformat_minor": 2
}
